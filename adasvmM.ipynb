{
 "cells": [
  {
   "cell_type": "code",
   "execution_count": 145,
   "metadata": {},
   "outputs": [],
   "source": [
    "import pandas as pd\n",
    "import pandas as pd\n",
    "from sklearn.preprocessing import StandardScaler, OneHotEncoder\n",
    "from sklearn.decomposition import PCA\n",
    "from datetime import datetime\n",
    "import warnings\n",
    "warnings.filterwarnings(\"ignore\")"
   ]
  },
  {
   "cell_type": "code",
   "execution_count": 146,
   "metadata": {},
   "outputs": [],
   "source": [
    "df = pd.read_csv('Rare_Event_Classification_Data.csv')\n",
    "y = df['y']\n",
    "df.drop(columns=['y'], inplace=True)\n",
    "categorical_columns = ['x28', 'x61','time']\n",
    "numerical_columns = [col for col in df.columns if col not in categorical_columns]\n",
    "df_numerical = df[numerical_columns]\n",
    "df_categorical = df[categorical_columns]"
   ]
  },
  {
   "cell_type": "code",
   "execution_count": 147,
   "metadata": {},
   "outputs": [],
   "source": [
    "encoder = OneHotEncoder()\n",
    "x28_encoded = encoder.fit_transform(df_categorical[['x28']])\n",
    "\n",
    "x28_encoded_df = pd.DataFrame(x28_encoded.toarray(), columns=encoder.get_feature_names_out(['x28']))\n",
    "\n",
    "df_categorical.drop(columns=['x28'], inplace=True)\n",
    "\n",
    "df_categorical = pd.concat([x28_encoded_df, df_categorical], axis=1)"
   ]
  },
  {
   "cell_type": "code",
   "execution_count": 148,
   "metadata": {},
   "outputs": [],
   "source": [
    "scaler = StandardScaler()\n",
    "df_numerical_standardized = scaler.fit_transform(df_numerical)\n",
    "\n",
    "pca = PCA(n_components=32,whiten=True,random_state=42)  \n",
    "df_numerical_pca = pca.fit_transform(df_numerical_standardized)\n",
    "\n",
    "df_pca = pd.DataFrame(data=df_numerical_pca, columns=[f'PC{i+1}' for i in range(df_numerical_pca.shape[1])])\n",
    "\n",
    "df_final = pd.concat([df_pca, df_categorical, y], axis=1)"
   ]
  },
  {
   "cell_type": "code",
   "execution_count": 149,
   "metadata": {},
   "outputs": [],
   "source": [
    "from sklearn.model_selection import train_test_split\n",
    "from sklearn.svm import SVC\n",
    "from sklearn.metrics import accuracy_score, precision_score, recall_score, f1_score"
   ]
  },
  {
   "cell_type": "code",
   "execution_count": 150,
   "metadata": {},
   "outputs": [],
   "source": [
    "df_final['y_shifted'] = df_final['y'].shift(-1)\n",
    "df_final['y_shifted'].fillna(0, inplace=True)"
   ]
  },
  {
   "cell_type": "code",
   "execution_count": 151,
   "metadata": {},
   "outputs": [],
   "source": [
    "df_final['time'] = pd.to_datetime(df_final['time'],format = '%m/%d/%y %H:%M')\n",
    "date = '1999-05-22'\n",
    "date = datetime.strptime(date,'%Y-%m-%d')\n",
    "X_train = df_final[df_final['time'] < date]\n",
    "X_test = df_final[df_final['time'] >= date]\n",
    "y_train = X_train['y_shifted']\n",
    "X_train.drop(columns=['y','time','y_shifted'], inplace=True)\n",
    "y_test = X_test['y_shifted']\n",
    "X_test.drop(columns=['y','time','y_shifted'],inplace=True)\n"
   ]
  },
  {
   "cell_type": "code",
   "execution_count": 152,
   "metadata": {},
   "outputs": [],
   "source": [
    "svm_classifier = SVC(C=1.8, kernel='rbf', class_weight='balanced',gamma=0.007)\n",
    "\n",
    "svm_classifier.fit(X_train, y_train)\n",
    "\n",
    "y_pred = svm_classifier.predict(X_test)"
   ]
  },
  {
   "cell_type": "code",
   "execution_count": 153,
   "metadata": {},
   "outputs": [
    {
     "name": "stdout",
     "output_type": "stream",
     "text": [
      "Accuracy: 0.8845429826396152\n",
      "Precision: 0.020522388059701493\n",
      "Recall: 0.2894736842105263\n",
      "F1 Score: 0.03832752613240418\n"
     ]
    }
   ],
   "source": [
    "from sklearn.metrics import accuracy_score, precision_score, recall_score, f1_score\n",
    "accuracy = accuracy_score(y_test, y_pred)\n",
    "precision = precision_score(y_test, y_pred)\n",
    "recall = recall_score(y_test, y_pred)\n",
    "f1 = f1_score(y_test, y_pred)\n",
    "print(f\"Accuracy: {accuracy}\")\n",
    "print(f\"Precision: {precision}\")\n",
    "print(f\"Recall: {recall}\")\n",
    "print(f\"F1 Score: {f1}\")"
   ]
  }
 ],
 "metadata": {
  "kernelspec": {
   "display_name": "env",
   "language": "python",
   "name": "python3"
  },
  "language_info": {
   "codemirror_mode": {
    "name": "ipython",
    "version": 3
   },
   "file_extension": ".py",
   "mimetype": "text/x-python",
   "name": "python",
   "nbconvert_exporter": "python",
   "pygments_lexer": "ipython3",
   "version": "3.10.5"
  }
 },
 "nbformat": 4,
 "nbformat_minor": 2
}
