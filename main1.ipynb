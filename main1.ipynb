{
 "cells": [
  {
   "cell_type": "code",
   "execution_count": 1,
   "metadata": {},
   "outputs": [],
   "source": [
    "import pandas as pd\n",
    "from sklearn.model_selection import train_test_split\n",
    "import numpy as np\n",
    "from sklearn.metrics import precision_score, recall_score, f1_score\n",
    "from sklearn.svm import SVC\n",
    "from sklearn.decomposition import PCA\n",
    "from sklearn.preprocessing import StandardScaler\n",
    "from sklearn.model_selection import GridSearchCV\n",
    "from sklearn.preprocessing import OneHotEncoder"
   ]
  },
  {
   "cell_type": "code",
   "execution_count": 2,
   "metadata": {},
   "outputs": [],
   "source": [
    "data_frame = pd.read_csv(\"./Dataset/Data.csv\")"
   ]
  },
  {
   "cell_type": "code",
   "execution_count": 3,
   "metadata": {},
   "outputs": [
    {
     "data": {
      "text/html": [
       "<div>\n",
       "<style scoped>\n",
       "    .dataframe tbody tr th:only-of-type {\n",
       "        vertical-align: middle;\n",
       "    }\n",
       "\n",
       "    .dataframe tbody tr th {\n",
       "        vertical-align: top;\n",
       "    }\n",
       "\n",
       "    .dataframe thead th {\n",
       "        text-align: right;\n",
       "    }\n",
       "</style>\n",
       "<table border=\"1\" class=\"dataframe\">\n",
       "  <thead>\n",
       "    <tr style=\"text-align: right;\">\n",
       "      <th></th>\n",
       "      <th>time</th>\n",
       "      <th>y</th>\n",
       "      <th>x1</th>\n",
       "      <th>x2</th>\n",
       "      <th>x3</th>\n",
       "      <th>x4</th>\n",
       "      <th>x5</th>\n",
       "      <th>x6</th>\n",
       "      <th>x7</th>\n",
       "      <th>x8</th>\n",
       "      <th>...</th>\n",
       "      <th>x52</th>\n",
       "      <th>x53</th>\n",
       "      <th>x54</th>\n",
       "      <th>x55</th>\n",
       "      <th>x56</th>\n",
       "      <th>x57</th>\n",
       "      <th>x58</th>\n",
       "      <th>x59</th>\n",
       "      <th>x60</th>\n",
       "      <th>x61</th>\n",
       "    </tr>\n",
       "  </thead>\n",
       "  <tbody>\n",
       "    <tr>\n",
       "      <th>0</th>\n",
       "      <td>5/1/99 0:00</td>\n",
       "      <td>0</td>\n",
       "      <td>0.376665</td>\n",
       "      <td>-4.596435</td>\n",
       "      <td>-4.095756</td>\n",
       "      <td>13.497687</td>\n",
       "      <td>-0.118830</td>\n",
       "      <td>-20.669883</td>\n",
       "      <td>0.000732</td>\n",
       "      <td>-0.061114</td>\n",
       "      <td>...</td>\n",
       "      <td>10.091721</td>\n",
       "      <td>0.053279</td>\n",
       "      <td>-4.936434</td>\n",
       "      <td>-24.590146</td>\n",
       "      <td>18.515436</td>\n",
       "      <td>3.473400</td>\n",
       "      <td>0.033444</td>\n",
       "      <td>0.953219</td>\n",
       "      <td>0.006076</td>\n",
       "      <td>0</td>\n",
       "    </tr>\n",
       "    <tr>\n",
       "      <th>1</th>\n",
       "      <td>5/1/99 0:02</td>\n",
       "      <td>0</td>\n",
       "      <td>0.475720</td>\n",
       "      <td>-4.542502</td>\n",
       "      <td>-4.018359</td>\n",
       "      <td>16.230659</td>\n",
       "      <td>-0.128733</td>\n",
       "      <td>-18.758079</td>\n",
       "      <td>0.000732</td>\n",
       "      <td>-0.061114</td>\n",
       "      <td>...</td>\n",
       "      <td>10.095871</td>\n",
       "      <td>0.062801</td>\n",
       "      <td>-4.937179</td>\n",
       "      <td>-32.413266</td>\n",
       "      <td>22.760065</td>\n",
       "      <td>2.682933</td>\n",
       "      <td>0.033536</td>\n",
       "      <td>1.090502</td>\n",
       "      <td>0.006083</td>\n",
       "      <td>0</td>\n",
       "    </tr>\n",
       "    <tr>\n",
       "      <th>2</th>\n",
       "      <td>5/1/99 0:04</td>\n",
       "      <td>0</td>\n",
       "      <td>0.363848</td>\n",
       "      <td>-4.681394</td>\n",
       "      <td>-4.353147</td>\n",
       "      <td>14.127997</td>\n",
       "      <td>-0.138636</td>\n",
       "      <td>-17.836632</td>\n",
       "      <td>0.010803</td>\n",
       "      <td>-0.061114</td>\n",
       "      <td>...</td>\n",
       "      <td>10.100265</td>\n",
       "      <td>0.072322</td>\n",
       "      <td>-4.937924</td>\n",
       "      <td>-34.183774</td>\n",
       "      <td>27.004663</td>\n",
       "      <td>3.537487</td>\n",
       "      <td>0.033629</td>\n",
       "      <td>1.840540</td>\n",
       "      <td>0.006090</td>\n",
       "      <td>0</td>\n",
       "    </tr>\n",
       "    <tr>\n",
       "      <th>3</th>\n",
       "      <td>5/1/99 0:06</td>\n",
       "      <td>0</td>\n",
       "      <td>0.301590</td>\n",
       "      <td>-4.758934</td>\n",
       "      <td>-4.023612</td>\n",
       "      <td>13.161566</td>\n",
       "      <td>-0.148142</td>\n",
       "      <td>-18.517601</td>\n",
       "      <td>0.002075</td>\n",
       "      <td>-0.061114</td>\n",
       "      <td>...</td>\n",
       "      <td>10.104660</td>\n",
       "      <td>0.081600</td>\n",
       "      <td>-4.938669</td>\n",
       "      <td>-35.954281</td>\n",
       "      <td>21.672449</td>\n",
       "      <td>3.986095</td>\n",
       "      <td>0.033721</td>\n",
       "      <td>2.554880</td>\n",
       "      <td>0.006097</td>\n",
       "      <td>0</td>\n",
       "    </tr>\n",
       "    <tr>\n",
       "      <th>4</th>\n",
       "      <td>5/1/99 0:08</td>\n",
       "      <td>0</td>\n",
       "      <td>0.265578</td>\n",
       "      <td>-4.749928</td>\n",
       "      <td>-4.333150</td>\n",
       "      <td>15.267340</td>\n",
       "      <td>-0.155314</td>\n",
       "      <td>-17.505913</td>\n",
       "      <td>0.000732</td>\n",
       "      <td>-0.061114</td>\n",
       "      <td>...</td>\n",
       "      <td>10.109054</td>\n",
       "      <td>0.091121</td>\n",
       "      <td>-4.939414</td>\n",
       "      <td>-37.724789</td>\n",
       "      <td>21.907251</td>\n",
       "      <td>3.601573</td>\n",
       "      <td>0.033777</td>\n",
       "      <td>1.410494</td>\n",
       "      <td>0.006105</td>\n",
       "      <td>0</td>\n",
       "    </tr>\n",
       "    <tr>\n",
       "      <th>...</th>\n",
       "      <td>...</td>\n",
       "      <td>...</td>\n",
       "      <td>...</td>\n",
       "      <td>...</td>\n",
       "      <td>...</td>\n",
       "      <td>...</td>\n",
       "      <td>...</td>\n",
       "      <td>...</td>\n",
       "      <td>...</td>\n",
       "      <td>...</td>\n",
       "      <td>...</td>\n",
       "      <td>...</td>\n",
       "      <td>...</td>\n",
       "      <td>...</td>\n",
       "      <td>...</td>\n",
       "      <td>...</td>\n",
       "      <td>...</td>\n",
       "      <td>...</td>\n",
       "      <td>...</td>\n",
       "      <td>...</td>\n",
       "      <td>...</td>\n",
       "    </tr>\n",
       "    <tr>\n",
       "      <th>18393</th>\n",
       "      <td>5/28/99 23:58</td>\n",
       "      <td>0</td>\n",
       "      <td>-0.877441</td>\n",
       "      <td>0.786430</td>\n",
       "      <td>0.406426</td>\n",
       "      <td>135.301215</td>\n",
       "      <td>0.112295</td>\n",
       "      <td>26.300392</td>\n",
       "      <td>-0.159185</td>\n",
       "      <td>0.058823</td>\n",
       "      <td>...</td>\n",
       "      <td>-0.773514</td>\n",
       "      <td>-0.752385</td>\n",
       "      <td>2.682413</td>\n",
       "      <td>6.944644</td>\n",
       "      <td>-37.795661</td>\n",
       "      <td>-0.860218</td>\n",
       "      <td>0.010220</td>\n",
       "      <td>0.895685</td>\n",
       "      <td>-0.011242</td>\n",
       "      <td>0</td>\n",
       "    </tr>\n",
       "    <tr>\n",
       "      <th>18394</th>\n",
       "      <td>5/29/99 0:00</td>\n",
       "      <td>0</td>\n",
       "      <td>-0.843988</td>\n",
       "      <td>0.633086</td>\n",
       "      <td>0.561918</td>\n",
       "      <td>133.228949</td>\n",
       "      <td>0.141332</td>\n",
       "      <td>25.678597</td>\n",
       "      <td>-0.159185</td>\n",
       "      <td>0.058823</td>\n",
       "      <td>...</td>\n",
       "      <td>-0.773514</td>\n",
       "      <td>-0.752385</td>\n",
       "      <td>2.683338</td>\n",
       "      <td>0.507755</td>\n",
       "      <td>-39.357199</td>\n",
       "      <td>-0.915698</td>\n",
       "      <td>0.010620</td>\n",
       "      <td>0.175348</td>\n",
       "      <td>-0.011235</td>\n",
       "      <td>0</td>\n",
       "    </tr>\n",
       "    <tr>\n",
       "      <th>18395</th>\n",
       "      <td>5/29/99 0:02</td>\n",
       "      <td>0</td>\n",
       "      <td>-0.826547</td>\n",
       "      <td>0.450126</td>\n",
       "      <td>0.334582</td>\n",
       "      <td>134.977973</td>\n",
       "      <td>0.170370</td>\n",
       "      <td>25.056801</td>\n",
       "      <td>-0.159185</td>\n",
       "      <td>0.048752</td>\n",
       "      <td>...</td>\n",
       "      <td>-0.773514</td>\n",
       "      <td>-0.752385</td>\n",
       "      <td>2.684263</td>\n",
       "      <td>2.809146</td>\n",
       "      <td>-39.357199</td>\n",
       "      <td>-1.409596</td>\n",
       "      <td>0.013323</td>\n",
       "      <td>0.621020</td>\n",
       "      <td>-0.011228</td>\n",
       "      <td>0</td>\n",
       "    </tr>\n",
       "    <tr>\n",
       "      <th>18396</th>\n",
       "      <td>5/29/99 0:04</td>\n",
       "      <td>0</td>\n",
       "      <td>-0.822843</td>\n",
       "      <td>0.419383</td>\n",
       "      <td>0.387263</td>\n",
       "      <td>135.658942</td>\n",
       "      <td>0.199422</td>\n",
       "      <td>24.435005</td>\n",
       "      <td>-0.159185</td>\n",
       "      <td>0.048752</td>\n",
       "      <td>...</td>\n",
       "      <td>-0.773514</td>\n",
       "      <td>-0.752385</td>\n",
       "      <td>2.685189</td>\n",
       "      <td>2.164859</td>\n",
       "      <td>-39.357199</td>\n",
       "      <td>-0.860218</td>\n",
       "      <td>0.012888</td>\n",
       "      <td>1.390902</td>\n",
       "      <td>-0.011221</td>\n",
       "      <td>0</td>\n",
       "    </tr>\n",
       "    <tr>\n",
       "      <th>18397</th>\n",
       "      <td>5/29/99 0:06</td>\n",
       "      <td>0</td>\n",
       "      <td>-0.840981</td>\n",
       "      <td>0.582710</td>\n",
       "      <td>0.593416</td>\n",
       "      <td>136.339880</td>\n",
       "      <td>0.228460</td>\n",
       "      <td>24.712960</td>\n",
       "      <td>-0.159185</td>\n",
       "      <td>0.048752</td>\n",
       "      <td>...</td>\n",
       "      <td>-0.773514</td>\n",
       "      <td>-0.752385</td>\n",
       "      <td>2.686114</td>\n",
       "      <td>1.416690</td>\n",
       "      <td>-39.357199</td>\n",
       "      <td>-0.732044</td>\n",
       "      <td>0.012453</td>\n",
       "      <td>0.418993</td>\n",
       "      <td>-0.011214</td>\n",
       "      <td>0</td>\n",
       "    </tr>\n",
       "  </tbody>\n",
       "</table>\n",
       "<p>18398 rows × 63 columns</p>\n",
       "</div>"
      ],
      "text/plain": [
       "                time  y        x1        x2        x3          x4        x5  \\\n",
       "0        5/1/99 0:00  0  0.376665 -4.596435 -4.095756   13.497687 -0.118830   \n",
       "1        5/1/99 0:02  0  0.475720 -4.542502 -4.018359   16.230659 -0.128733   \n",
       "2        5/1/99 0:04  0  0.363848 -4.681394 -4.353147   14.127997 -0.138636   \n",
       "3        5/1/99 0:06  0  0.301590 -4.758934 -4.023612   13.161566 -0.148142   \n",
       "4        5/1/99 0:08  0  0.265578 -4.749928 -4.333150   15.267340 -0.155314   \n",
       "...              ... ..       ...       ...       ...         ...       ...   \n",
       "18393  5/28/99 23:58  0 -0.877441  0.786430  0.406426  135.301215  0.112295   \n",
       "18394   5/29/99 0:00  0 -0.843988  0.633086  0.561918  133.228949  0.141332   \n",
       "18395   5/29/99 0:02  0 -0.826547  0.450126  0.334582  134.977973  0.170370   \n",
       "18396   5/29/99 0:04  0 -0.822843  0.419383  0.387263  135.658942  0.199422   \n",
       "18397   5/29/99 0:06  0 -0.840981  0.582710  0.593416  136.339880  0.228460   \n",
       "\n",
       "              x6        x7        x8  ...        x52       x53       x54  \\\n",
       "0     -20.669883  0.000732 -0.061114  ...  10.091721  0.053279 -4.936434   \n",
       "1     -18.758079  0.000732 -0.061114  ...  10.095871  0.062801 -4.937179   \n",
       "2     -17.836632  0.010803 -0.061114  ...  10.100265  0.072322 -4.937924   \n",
       "3     -18.517601  0.002075 -0.061114  ...  10.104660  0.081600 -4.938669   \n",
       "4     -17.505913  0.000732 -0.061114  ...  10.109054  0.091121 -4.939414   \n",
       "...          ...       ...       ...  ...        ...       ...       ...   \n",
       "18393  26.300392 -0.159185  0.058823  ...  -0.773514 -0.752385  2.682413   \n",
       "18394  25.678597 -0.159185  0.058823  ...  -0.773514 -0.752385  2.683338   \n",
       "18395  25.056801 -0.159185  0.048752  ...  -0.773514 -0.752385  2.684263   \n",
       "18396  24.435005 -0.159185  0.048752  ...  -0.773514 -0.752385  2.685189   \n",
       "18397  24.712960 -0.159185  0.048752  ...  -0.773514 -0.752385  2.686114   \n",
       "\n",
       "             x55        x56       x57       x58       x59       x60  x61  \n",
       "0     -24.590146  18.515436  3.473400  0.033444  0.953219  0.006076    0  \n",
       "1     -32.413266  22.760065  2.682933  0.033536  1.090502  0.006083    0  \n",
       "2     -34.183774  27.004663  3.537487  0.033629  1.840540  0.006090    0  \n",
       "3     -35.954281  21.672449  3.986095  0.033721  2.554880  0.006097    0  \n",
       "4     -37.724789  21.907251  3.601573  0.033777  1.410494  0.006105    0  \n",
       "...          ...        ...       ...       ...       ...       ...  ...  \n",
       "18393   6.944644 -37.795661 -0.860218  0.010220  0.895685 -0.011242    0  \n",
       "18394   0.507755 -39.357199 -0.915698  0.010620  0.175348 -0.011235    0  \n",
       "18395   2.809146 -39.357199 -1.409596  0.013323  0.621020 -0.011228    0  \n",
       "18396   2.164859 -39.357199 -0.860218  0.012888  1.390902 -0.011221    0  \n",
       "18397   1.416690 -39.357199 -0.732044  0.012453  0.418993 -0.011214    0  \n",
       "\n",
       "[18398 rows x 63 columns]"
      ]
     },
     "execution_count": 3,
     "metadata": {},
     "output_type": "execute_result"
    }
   ],
   "source": [
    "data_frame"
   ]
  },
  {
   "cell_type": "code",
   "execution_count": 4,
   "metadata": {},
   "outputs": [
    {
     "data": {
      "text/html": [
       "<div>\n",
       "<style scoped>\n",
       "    .dataframe tbody tr th:only-of-type {\n",
       "        vertical-align: middle;\n",
       "    }\n",
       "\n",
       "    .dataframe tbody tr th {\n",
       "        vertical-align: top;\n",
       "    }\n",
       "\n",
       "    .dataframe thead th {\n",
       "        text-align: right;\n",
       "    }\n",
       "</style>\n",
       "<table border=\"1\" class=\"dataframe\">\n",
       "  <thead>\n",
       "    <tr style=\"text-align: right;\">\n",
       "      <th></th>\n",
       "      <th>time</th>\n",
       "      <th>y</th>\n",
       "      <th>x1</th>\n",
       "      <th>x2</th>\n",
       "      <th>x3</th>\n",
       "      <th>x4</th>\n",
       "      <th>x5</th>\n",
       "      <th>x6</th>\n",
       "      <th>x7</th>\n",
       "      <th>x8</th>\n",
       "      <th>...</th>\n",
       "      <th>x52</th>\n",
       "      <th>x53</th>\n",
       "      <th>x54</th>\n",
       "      <th>x55</th>\n",
       "      <th>x56</th>\n",
       "      <th>x57</th>\n",
       "      <th>x58</th>\n",
       "      <th>x59</th>\n",
       "      <th>x60</th>\n",
       "      <th>x61</th>\n",
       "    </tr>\n",
       "  </thead>\n",
       "  <tbody>\n",
       "    <tr>\n",
       "      <th>13616</th>\n",
       "      <td>5/21/99 23:58</td>\n",
       "      <td>0</td>\n",
       "      <td>-0.184264</td>\n",
       "      <td>5.963519</td>\n",
       "      <td>2.541319</td>\n",
       "      <td>-24.871759</td>\n",
       "      <td>1.01531</td>\n",
       "      <td>-64.013679</td>\n",
       "      <td>-0.089298</td>\n",
       "      <td>0.038986</td>\n",
       "      <td>...</td>\n",
       "      <td>5.012619</td>\n",
       "      <td>10.052303</td>\n",
       "      <td>2.654354</td>\n",
       "      <td>1.240543</td>\n",
       "      <td>-150.29198</td>\n",
       "      <td>0.329967</td>\n",
       "      <td>-0.002612</td>\n",
       "      <td>0.136225</td>\n",
       "      <td>0.000434</td>\n",
       "      <td>0</td>\n",
       "    </tr>\n",
       "  </tbody>\n",
       "</table>\n",
       "<p>1 rows × 63 columns</p>\n",
       "</div>"
      ],
      "text/plain": [
       "                time  y        x1        x2        x3         x4       x5  \\\n",
       "13616  5/21/99 23:58  0 -0.184264  5.963519  2.541319 -24.871759  1.01531   \n",
       "\n",
       "              x6        x7        x8  ...       x52        x53       x54  \\\n",
       "13616 -64.013679 -0.089298  0.038986  ...  5.012619  10.052303  2.654354   \n",
       "\n",
       "            x55        x56       x57       x58       x59       x60  x61  \n",
       "13616  1.240543 -150.29198  0.329967 -0.002612  0.136225  0.000434    0  \n",
       "\n",
       "[1 rows x 63 columns]"
      ]
     },
     "execution_count": 4,
     "metadata": {},
     "output_type": "execute_result"
    }
   ],
   "source": [
    "target_time = '5/21/99 23:58'\n",
    "training_cutoff = data_frame[data_frame['time'] == target_time]\n",
    "training_cutoff"
   ]
  },
  {
   "cell_type": "code",
   "execution_count": 5,
   "metadata": {},
   "outputs": [
    {
     "data": {
      "text/plain": [
       "13616"
      ]
     },
     "execution_count": 5,
     "metadata": {},
     "output_type": "execute_result"
    }
   ],
   "source": [
    "training_last_index = training_cutoff.index[0]\n",
    "training_last_index"
   ]
  },
  {
   "cell_type": "code",
   "execution_count": 6,
   "metadata": {},
   "outputs": [],
   "source": [
    "cat_att1 =data_frame[\"x28\"].values\n",
    "cat_att2 =data_frame[\"x61\"].values"
   ]
  },
  {
   "cell_type": "code",
   "execution_count": 7,
   "metadata": {},
   "outputs": [],
   "source": [
    "target = data_frame[\"y\"]\n",
    "features = data_frame.drop(columns=[\"y\", \"time\",\"x28\",\"x61\"])"
   ]
  },
  {
   "cell_type": "code",
   "execution_count": 8,
   "metadata": {},
   "outputs": [
    {
     "data": {
      "text/plain": [
       "0        0\n",
       "1        0\n",
       "2        0\n",
       "3        0\n",
       "4        0\n",
       "        ..\n",
       "18393    0\n",
       "18394    0\n",
       "18395    0\n",
       "18396    0\n",
       "18397    0\n",
       "Name: y, Length: 18398, dtype: int64"
      ]
     },
     "execution_count": 8,
     "metadata": {},
     "output_type": "execute_result"
    }
   ],
   "source": [
    "target"
   ]
  },
  {
   "cell_type": "code",
   "execution_count": 9,
   "metadata": {},
   "outputs": [
    {
     "data": {
      "text/html": [
       "<div>\n",
       "<style scoped>\n",
       "    .dataframe tbody tr th:only-of-type {\n",
       "        vertical-align: middle;\n",
       "    }\n",
       "\n",
       "    .dataframe tbody tr th {\n",
       "        vertical-align: top;\n",
       "    }\n",
       "\n",
       "    .dataframe thead th {\n",
       "        text-align: right;\n",
       "    }\n",
       "</style>\n",
       "<table border=\"1\" class=\"dataframe\">\n",
       "  <thead>\n",
       "    <tr style=\"text-align: right;\">\n",
       "      <th></th>\n",
       "      <th>x1</th>\n",
       "      <th>x2</th>\n",
       "      <th>x3</th>\n",
       "      <th>x4</th>\n",
       "      <th>x5</th>\n",
       "      <th>x6</th>\n",
       "      <th>x7</th>\n",
       "      <th>x8</th>\n",
       "      <th>x9</th>\n",
       "      <th>x10</th>\n",
       "      <th>...</th>\n",
       "      <th>x51</th>\n",
       "      <th>x52</th>\n",
       "      <th>x53</th>\n",
       "      <th>x54</th>\n",
       "      <th>x55</th>\n",
       "      <th>x56</th>\n",
       "      <th>x57</th>\n",
       "      <th>x58</th>\n",
       "      <th>x59</th>\n",
       "      <th>x60</th>\n",
       "    </tr>\n",
       "  </thead>\n",
       "  <tbody>\n",
       "    <tr>\n",
       "      <th>0</th>\n",
       "      <td>0.376665</td>\n",
       "      <td>-4.596435</td>\n",
       "      <td>-4.095756</td>\n",
       "      <td>13.497687</td>\n",
       "      <td>-0.118830</td>\n",
       "      <td>-20.669883</td>\n",
       "      <td>0.000732</td>\n",
       "      <td>-0.061114</td>\n",
       "      <td>-0.059966</td>\n",
       "      <td>-0.038189</td>\n",
       "      <td>...</td>\n",
       "      <td>29.984624</td>\n",
       "      <td>10.091721</td>\n",
       "      <td>0.053279</td>\n",
       "      <td>-4.936434</td>\n",
       "      <td>-24.590146</td>\n",
       "      <td>18.515436</td>\n",
       "      <td>3.473400</td>\n",
       "      <td>0.033444</td>\n",
       "      <td>0.953219</td>\n",
       "      <td>0.006076</td>\n",
       "    </tr>\n",
       "    <tr>\n",
       "      <th>1</th>\n",
       "      <td>0.475720</td>\n",
       "      <td>-4.542502</td>\n",
       "      <td>-4.018359</td>\n",
       "      <td>16.230659</td>\n",
       "      <td>-0.128733</td>\n",
       "      <td>-18.758079</td>\n",
       "      <td>0.000732</td>\n",
       "      <td>-0.061114</td>\n",
       "      <td>-0.059966</td>\n",
       "      <td>-0.038189</td>\n",
       "      <td>...</td>\n",
       "      <td>29.984624</td>\n",
       "      <td>10.095871</td>\n",
       "      <td>0.062801</td>\n",
       "      <td>-4.937179</td>\n",
       "      <td>-32.413266</td>\n",
       "      <td>22.760065</td>\n",
       "      <td>2.682933</td>\n",
       "      <td>0.033536</td>\n",
       "      <td>1.090502</td>\n",
       "      <td>0.006083</td>\n",
       "    </tr>\n",
       "    <tr>\n",
       "      <th>2</th>\n",
       "      <td>0.363848</td>\n",
       "      <td>-4.681394</td>\n",
       "      <td>-4.353147</td>\n",
       "      <td>14.127997</td>\n",
       "      <td>-0.138636</td>\n",
       "      <td>-17.836632</td>\n",
       "      <td>0.010803</td>\n",
       "      <td>-0.061114</td>\n",
       "      <td>-0.030057</td>\n",
       "      <td>-0.018352</td>\n",
       "      <td>...</td>\n",
       "      <td>29.984624</td>\n",
       "      <td>10.100265</td>\n",
       "      <td>0.072322</td>\n",
       "      <td>-4.937924</td>\n",
       "      <td>-34.183774</td>\n",
       "      <td>27.004663</td>\n",
       "      <td>3.537487</td>\n",
       "      <td>0.033629</td>\n",
       "      <td>1.840540</td>\n",
       "      <td>0.006090</td>\n",
       "    </tr>\n",
       "    <tr>\n",
       "      <th>3</th>\n",
       "      <td>0.301590</td>\n",
       "      <td>-4.758934</td>\n",
       "      <td>-4.023612</td>\n",
       "      <td>13.161566</td>\n",
       "      <td>-0.148142</td>\n",
       "      <td>-18.517601</td>\n",
       "      <td>0.002075</td>\n",
       "      <td>-0.061114</td>\n",
       "      <td>-0.019986</td>\n",
       "      <td>-0.008280</td>\n",
       "      <td>...</td>\n",
       "      <td>29.984624</td>\n",
       "      <td>10.104660</td>\n",
       "      <td>0.081600</td>\n",
       "      <td>-4.938669</td>\n",
       "      <td>-35.954281</td>\n",
       "      <td>21.672449</td>\n",
       "      <td>3.986095</td>\n",
       "      <td>0.033721</td>\n",
       "      <td>2.554880</td>\n",
       "      <td>0.006097</td>\n",
       "    </tr>\n",
       "    <tr>\n",
       "      <th>4</th>\n",
       "      <td>0.265578</td>\n",
       "      <td>-4.749928</td>\n",
       "      <td>-4.333150</td>\n",
       "      <td>15.267340</td>\n",
       "      <td>-0.155314</td>\n",
       "      <td>-17.505913</td>\n",
       "      <td>0.000732</td>\n",
       "      <td>-0.061114</td>\n",
       "      <td>-0.030057</td>\n",
       "      <td>-0.008280</td>\n",
       "      <td>...</td>\n",
       "      <td>29.984624</td>\n",
       "      <td>10.109054</td>\n",
       "      <td>0.091121</td>\n",
       "      <td>-4.939414</td>\n",
       "      <td>-37.724789</td>\n",
       "      <td>21.907251</td>\n",
       "      <td>3.601573</td>\n",
       "      <td>0.033777</td>\n",
       "      <td>1.410494</td>\n",
       "      <td>0.006105</td>\n",
       "    </tr>\n",
       "    <tr>\n",
       "      <th>...</th>\n",
       "      <td>...</td>\n",
       "      <td>...</td>\n",
       "      <td>...</td>\n",
       "      <td>...</td>\n",
       "      <td>...</td>\n",
       "      <td>...</td>\n",
       "      <td>...</td>\n",
       "      <td>...</td>\n",
       "      <td>...</td>\n",
       "      <td>...</td>\n",
       "      <td>...</td>\n",
       "      <td>...</td>\n",
       "      <td>...</td>\n",
       "      <td>...</td>\n",
       "      <td>...</td>\n",
       "      <td>...</td>\n",
       "      <td>...</td>\n",
       "      <td>...</td>\n",
       "      <td>...</td>\n",
       "      <td>...</td>\n",
       "      <td>...</td>\n",
       "    </tr>\n",
       "    <tr>\n",
       "      <th>18393</th>\n",
       "      <td>-0.877441</td>\n",
       "      <td>0.786430</td>\n",
       "      <td>0.406426</td>\n",
       "      <td>135.301215</td>\n",
       "      <td>0.112295</td>\n",
       "      <td>26.300392</td>\n",
       "      <td>-0.159185</td>\n",
       "      <td>0.058823</td>\n",
       "      <td>-0.080108</td>\n",
       "      <td>-0.038189</td>\n",
       "      <td>...</td>\n",
       "      <td>29.984624</td>\n",
       "      <td>-0.773514</td>\n",
       "      <td>-0.752385</td>\n",
       "      <td>2.682413</td>\n",
       "      <td>6.944644</td>\n",
       "      <td>-37.795661</td>\n",
       "      <td>-0.860218</td>\n",
       "      <td>0.010220</td>\n",
       "      <td>0.895685</td>\n",
       "      <td>-0.011242</td>\n",
       "    </tr>\n",
       "    <tr>\n",
       "      <th>18394</th>\n",
       "      <td>-0.843988</td>\n",
       "      <td>0.633086</td>\n",
       "      <td>0.561918</td>\n",
       "      <td>133.228949</td>\n",
       "      <td>0.141332</td>\n",
       "      <td>25.678597</td>\n",
       "      <td>-0.159185</td>\n",
       "      <td>0.058823</td>\n",
       "      <td>-0.080108</td>\n",
       "      <td>-0.038189</td>\n",
       "      <td>...</td>\n",
       "      <td>29.984624</td>\n",
       "      <td>-0.773514</td>\n",
       "      <td>-0.752385</td>\n",
       "      <td>2.683338</td>\n",
       "      <td>0.507755</td>\n",
       "      <td>-39.357199</td>\n",
       "      <td>-0.915698</td>\n",
       "      <td>0.010620</td>\n",
       "      <td>0.175348</td>\n",
       "      <td>-0.011235</td>\n",
       "    </tr>\n",
       "    <tr>\n",
       "      <th>18395</th>\n",
       "      <td>-0.826547</td>\n",
       "      <td>0.450126</td>\n",
       "      <td>0.334582</td>\n",
       "      <td>134.977973</td>\n",
       "      <td>0.170370</td>\n",
       "      <td>25.056801</td>\n",
       "      <td>-0.159185</td>\n",
       "      <td>0.048752</td>\n",
       "      <td>-0.080108</td>\n",
       "      <td>-0.038189</td>\n",
       "      <td>...</td>\n",
       "      <td>29.984624</td>\n",
       "      <td>-0.773514</td>\n",
       "      <td>-0.752385</td>\n",
       "      <td>2.684263</td>\n",
       "      <td>2.809146</td>\n",
       "      <td>-39.357199</td>\n",
       "      <td>-1.409596</td>\n",
       "      <td>0.013323</td>\n",
       "      <td>0.621020</td>\n",
       "      <td>-0.011228</td>\n",
       "    </tr>\n",
       "    <tr>\n",
       "      <th>18396</th>\n",
       "      <td>-0.822843</td>\n",
       "      <td>0.419383</td>\n",
       "      <td>0.387263</td>\n",
       "      <td>135.658942</td>\n",
       "      <td>0.199422</td>\n",
       "      <td>24.435005</td>\n",
       "      <td>-0.159185</td>\n",
       "      <td>0.048752</td>\n",
       "      <td>-0.080108</td>\n",
       "      <td>-0.038189</td>\n",
       "      <td>...</td>\n",
       "      <td>29.984624</td>\n",
       "      <td>-0.773514</td>\n",
       "      <td>-0.752385</td>\n",
       "      <td>2.685189</td>\n",
       "      <td>2.164859</td>\n",
       "      <td>-39.357199</td>\n",
       "      <td>-0.860218</td>\n",
       "      <td>0.012888</td>\n",
       "      <td>1.390902</td>\n",
       "      <td>-0.011221</td>\n",
       "    </tr>\n",
       "    <tr>\n",
       "      <th>18397</th>\n",
       "      <td>-0.840981</td>\n",
       "      <td>0.582710</td>\n",
       "      <td>0.593416</td>\n",
       "      <td>136.339880</td>\n",
       "      <td>0.228460</td>\n",
       "      <td>24.712960</td>\n",
       "      <td>-0.159185</td>\n",
       "      <td>0.048752</td>\n",
       "      <td>-0.070037</td>\n",
       "      <td>-0.038189</td>\n",
       "      <td>...</td>\n",
       "      <td>29.984624</td>\n",
       "      <td>-0.773514</td>\n",
       "      <td>-0.752385</td>\n",
       "      <td>2.686114</td>\n",
       "      <td>1.416690</td>\n",
       "      <td>-39.357199</td>\n",
       "      <td>-0.732044</td>\n",
       "      <td>0.012453</td>\n",
       "      <td>0.418993</td>\n",
       "      <td>-0.011214</td>\n",
       "    </tr>\n",
       "  </tbody>\n",
       "</table>\n",
       "<p>18398 rows × 59 columns</p>\n",
       "</div>"
      ],
      "text/plain": [
       "             x1        x2        x3          x4        x5         x6  \\\n",
       "0      0.376665 -4.596435 -4.095756   13.497687 -0.118830 -20.669883   \n",
       "1      0.475720 -4.542502 -4.018359   16.230659 -0.128733 -18.758079   \n",
       "2      0.363848 -4.681394 -4.353147   14.127997 -0.138636 -17.836632   \n",
       "3      0.301590 -4.758934 -4.023612   13.161566 -0.148142 -18.517601   \n",
       "4      0.265578 -4.749928 -4.333150   15.267340 -0.155314 -17.505913   \n",
       "...         ...       ...       ...         ...       ...        ...   \n",
       "18393 -0.877441  0.786430  0.406426  135.301215  0.112295  26.300392   \n",
       "18394 -0.843988  0.633086  0.561918  133.228949  0.141332  25.678597   \n",
       "18395 -0.826547  0.450126  0.334582  134.977973  0.170370  25.056801   \n",
       "18396 -0.822843  0.419383  0.387263  135.658942  0.199422  24.435005   \n",
       "18397 -0.840981  0.582710  0.593416  136.339880  0.228460  24.712960   \n",
       "\n",
       "             x7        x8        x9       x10  ...        x51        x52  \\\n",
       "0      0.000732 -0.061114 -0.059966 -0.038189  ...  29.984624  10.091721   \n",
       "1      0.000732 -0.061114 -0.059966 -0.038189  ...  29.984624  10.095871   \n",
       "2      0.010803 -0.061114 -0.030057 -0.018352  ...  29.984624  10.100265   \n",
       "3      0.002075 -0.061114 -0.019986 -0.008280  ...  29.984624  10.104660   \n",
       "4      0.000732 -0.061114 -0.030057 -0.008280  ...  29.984624  10.109054   \n",
       "...         ...       ...       ...       ...  ...        ...        ...   \n",
       "18393 -0.159185  0.058823 -0.080108 -0.038189  ...  29.984624  -0.773514   \n",
       "18394 -0.159185  0.058823 -0.080108 -0.038189  ...  29.984624  -0.773514   \n",
       "18395 -0.159185  0.048752 -0.080108 -0.038189  ...  29.984624  -0.773514   \n",
       "18396 -0.159185  0.048752 -0.080108 -0.038189  ...  29.984624  -0.773514   \n",
       "18397 -0.159185  0.048752 -0.070037 -0.038189  ...  29.984624  -0.773514   \n",
       "\n",
       "            x53       x54        x55        x56       x57       x58       x59  \\\n",
       "0      0.053279 -4.936434 -24.590146  18.515436  3.473400  0.033444  0.953219   \n",
       "1      0.062801 -4.937179 -32.413266  22.760065  2.682933  0.033536  1.090502   \n",
       "2      0.072322 -4.937924 -34.183774  27.004663  3.537487  0.033629  1.840540   \n",
       "3      0.081600 -4.938669 -35.954281  21.672449  3.986095  0.033721  2.554880   \n",
       "4      0.091121 -4.939414 -37.724789  21.907251  3.601573  0.033777  1.410494   \n",
       "...         ...       ...        ...        ...       ...       ...       ...   \n",
       "18393 -0.752385  2.682413   6.944644 -37.795661 -0.860218  0.010220  0.895685   \n",
       "18394 -0.752385  2.683338   0.507755 -39.357199 -0.915698  0.010620  0.175348   \n",
       "18395 -0.752385  2.684263   2.809146 -39.357199 -1.409596  0.013323  0.621020   \n",
       "18396 -0.752385  2.685189   2.164859 -39.357199 -0.860218  0.012888  1.390902   \n",
       "18397 -0.752385  2.686114   1.416690 -39.357199 -0.732044  0.012453  0.418993   \n",
       "\n",
       "            x60  \n",
       "0      0.006076  \n",
       "1      0.006083  \n",
       "2      0.006090  \n",
       "3      0.006097  \n",
       "4      0.006105  \n",
       "...         ...  \n",
       "18393 -0.011242  \n",
       "18394 -0.011235  \n",
       "18395 -0.011228  \n",
       "18396 -0.011221  \n",
       "18397 -0.011214  \n",
       "\n",
       "[18398 rows x 59 columns]"
      ]
     },
     "execution_count": 9,
     "metadata": {},
     "output_type": "execute_result"
    }
   ],
   "source": [
    "features"
   ]
  },
  {
   "cell_type": "code",
   "execution_count": 10,
   "metadata": {},
   "outputs": [
    {
     "data": {
      "text/plain": [
       "((18398, 59), (18398,))"
      ]
     },
     "execution_count": 10,
     "metadata": {},
     "output_type": "execute_result"
    }
   ],
   "source": [
    "features.shape, target.shape"
   ]
  },
  {
   "cell_type": "code",
   "execution_count": 11,
   "metadata": {},
   "outputs": [],
   "source": [
    "np_targets = target.values\n",
    "np_features = features.values"
   ]
  },
  {
   "cell_type": "code",
   "execution_count": 12,
   "metadata": {},
   "outputs": [],
   "source": [
    "mean_values = np.mean(np_features, axis=0)\n",
    "std_dev = np.std(np_features, axis=0)\n",
    "standardized_features = (np_features - mean_values) / std_dev"
   ]
  },
  {
   "cell_type": "code",
   "execution_count": 13,
   "metadata": {},
   "outputs": [
    {
     "data": {
      "text/plain": [
       "((18398, 59), (18398,))"
      ]
     },
     "execution_count": 13,
     "metadata": {},
     "output_type": "execute_result"
    }
   ],
   "source": [
    "np_features.shape,np_targets.shape"
   ]
  },
  {
   "cell_type": "code",
   "execution_count": 14,
   "metadata": {},
   "outputs": [],
   "source": [
    "scaler = StandardScaler()\n",
    "standardized_features = scaler.fit_transform(np_features)"
   ]
  },
  {
   "cell_type": "code",
   "execution_count": 15,
   "metadata": {},
   "outputs": [
    {
     "data": {
      "text/html": [
       "<style>#sk-container-id-1 {color: black;}#sk-container-id-1 pre{padding: 0;}#sk-container-id-1 div.sk-toggleable {background-color: white;}#sk-container-id-1 label.sk-toggleable__label {cursor: pointer;display: block;width: 100%;margin-bottom: 0;padding: 0.3em;box-sizing: border-box;text-align: center;}#sk-container-id-1 label.sk-toggleable__label-arrow:before {content: \"▸\";float: left;margin-right: 0.25em;color: #696969;}#sk-container-id-1 label.sk-toggleable__label-arrow:hover:before {color: black;}#sk-container-id-1 div.sk-estimator:hover label.sk-toggleable__label-arrow:before {color: black;}#sk-container-id-1 div.sk-toggleable__content {max-height: 0;max-width: 0;overflow: hidden;text-align: left;background-color: #f0f8ff;}#sk-container-id-1 div.sk-toggleable__content pre {margin: 0.2em;color: black;border-radius: 0.25em;background-color: #f0f8ff;}#sk-container-id-1 input.sk-toggleable__control:checked~div.sk-toggleable__content {max-height: 200px;max-width: 100%;overflow: auto;}#sk-container-id-1 input.sk-toggleable__control:checked~label.sk-toggleable__label-arrow:before {content: \"▾\";}#sk-container-id-1 div.sk-estimator input.sk-toggleable__control:checked~label.sk-toggleable__label {background-color: #d4ebff;}#sk-container-id-1 div.sk-label input.sk-toggleable__control:checked~label.sk-toggleable__label {background-color: #d4ebff;}#sk-container-id-1 input.sk-hidden--visually {border: 0;clip: rect(1px 1px 1px 1px);clip: rect(1px, 1px, 1px, 1px);height: 1px;margin: -1px;overflow: hidden;padding: 0;position: absolute;width: 1px;}#sk-container-id-1 div.sk-estimator {font-family: monospace;background-color: #f0f8ff;border: 1px dotted black;border-radius: 0.25em;box-sizing: border-box;margin-bottom: 0.5em;}#sk-container-id-1 div.sk-estimator:hover {background-color: #d4ebff;}#sk-container-id-1 div.sk-parallel-item::after {content: \"\";width: 100%;border-bottom: 1px solid gray;flex-grow: 1;}#sk-container-id-1 div.sk-label:hover label.sk-toggleable__label {background-color: #d4ebff;}#sk-container-id-1 div.sk-serial::before {content: \"\";position: absolute;border-left: 1px solid gray;box-sizing: border-box;top: 0;bottom: 0;left: 50%;z-index: 0;}#sk-container-id-1 div.sk-serial {display: flex;flex-direction: column;align-items: center;background-color: white;padding-right: 0.2em;padding-left: 0.2em;position: relative;}#sk-container-id-1 div.sk-item {position: relative;z-index: 1;}#sk-container-id-1 div.sk-parallel {display: flex;align-items: stretch;justify-content: center;background-color: white;position: relative;}#sk-container-id-1 div.sk-item::before, #sk-container-id-1 div.sk-parallel-item::before {content: \"\";position: absolute;border-left: 1px solid gray;box-sizing: border-box;top: 0;bottom: 0;left: 50%;z-index: -1;}#sk-container-id-1 div.sk-parallel-item {display: flex;flex-direction: column;z-index: 1;position: relative;background-color: white;}#sk-container-id-1 div.sk-parallel-item:first-child::after {align-self: flex-end;width: 50%;}#sk-container-id-1 div.sk-parallel-item:last-child::after {align-self: flex-start;width: 50%;}#sk-container-id-1 div.sk-parallel-item:only-child::after {width: 0;}#sk-container-id-1 div.sk-dashed-wrapped {border: 1px dashed gray;margin: 0 0.4em 0.5em 0.4em;box-sizing: border-box;padding-bottom: 0.4em;background-color: white;}#sk-container-id-1 div.sk-label label {font-family: monospace;font-weight: bold;display: inline-block;line-height: 1.2em;}#sk-container-id-1 div.sk-label-container {text-align: center;}#sk-container-id-1 div.sk-container {/* jupyter's `normalize.less` sets `[hidden] { display: none; }` but bootstrap.min.css set `[hidden] { display: none !important; }` so we also need the `!important` here to be able to override the default hidden behavior on the sphinx rendered scikit-learn.org. See: https://github.com/scikit-learn/scikit-learn/issues/21755 */display: inline-block !important;position: relative;}#sk-container-id-1 div.sk-text-repr-fallback {display: none;}</style><div id=\"sk-container-id-1\" class=\"sk-top-container\"><div class=\"sk-text-repr-fallback\"><pre>PCA()</pre><b>In a Jupyter environment, please rerun this cell to show the HTML representation or trust the notebook. <br />On GitHub, the HTML representation is unable to render, please try loading this page with nbviewer.org.</b></div><div class=\"sk-container\" hidden><div class=\"sk-item\"><div class=\"sk-estimator sk-toggleable\"><input class=\"sk-toggleable__control sk-hidden--visually\" id=\"sk-estimator-id-1\" type=\"checkbox\" checked><label for=\"sk-estimator-id-1\" class=\"sk-toggleable__label sk-toggleable__label-arrow\">PCA</label><div class=\"sk-toggleable__content\"><pre>PCA()</pre></div></div></div></div></div>"
      ],
      "text/plain": [
       "PCA()"
      ]
     },
     "execution_count": 15,
     "metadata": {},
     "output_type": "execute_result"
    }
   ],
   "source": [
    "pca = PCA()\n",
    "pca.fit(standardized_features)"
   ]
  },
  {
   "cell_type": "code",
   "execution_count": 16,
   "metadata": {},
   "outputs": [
    {
     "data": {
      "text/plain": [
       "(59, 59)"
      ]
     },
     "execution_count": 16,
     "metadata": {},
     "output_type": "execute_result"
    }
   ],
   "source": [
    "pca.components_.shape"
   ]
  },
  {
   "cell_type": "code",
   "execution_count": 17,
   "metadata": {},
   "outputs": [
    {
     "data": {
      "text/plain": [
       "(array([1.01310690e+01, 9.34813516e+00, 4.60365938e+00, 4.01064229e+00,\n",
       "        3.16815407e+00, 2.94957557e+00, 2.41860610e+00, 2.03390639e+00,\n",
       "        1.69248651e+00, 1.41400772e+00, 1.12483650e+00, 1.08005278e+00,\n",
       "        1.04272615e+00, 1.00472478e+00, 9.83188723e-01, 9.40384306e-01,\n",
       "        8.41534240e-01, 8.14665874e-01, 6.98403019e-01, 6.83795011e-01,\n",
       "        6.37494624e-01, 5.97730473e-01, 5.84119249e-01, 5.26469487e-01,\n",
       "        4.78787426e-01, 4.25099854e-01, 4.16455980e-01, 3.78068181e-01,\n",
       "        3.55018106e-01, 3.29547605e-01, 3.17739544e-01, 2.97001368e-01,\n",
       "        2.68001568e-01, 2.62475796e-01, 2.12808704e-01, 2.01894174e-01,\n",
       "        1.90033982e-01, 1.69088598e-01, 1.58886150e-01, 1.36391654e-01,\n",
       "        1.29274091e-01, 1.15258457e-01, 1.10335190e-01, 1.03161912e-01,\n",
       "        9.48272947e-02, 8.39155625e-02, 7.11518235e-02, 6.77854424e-02,\n",
       "        5.52953674e-02, 5.12759197e-02, 4.74703687e-02, 4.51643836e-02,\n",
       "        3.80987678e-02, 3.45225044e-02, 1.30031098e-02, 9.63669601e-03,\n",
       "        2.83012941e-03, 2.30659663e-03, 2.27393720e-04]),\n",
       " (59,))"
      ]
     },
     "execution_count": 17,
     "metadata": {},
     "output_type": "execute_result"
    }
   ],
   "source": [
    "pca.explained_variance_,pca.explained_variance_.shape"
   ]
  },
  {
   "cell_type": "code",
   "execution_count": 18,
   "metadata": {},
   "outputs": [
    {
     "data": {
      "text/plain": [
       "32"
      ]
     },
     "execution_count": 18,
     "metadata": {},
     "output_type": "execute_result"
    }
   ],
   "source": [
    "# Components Selection with 95% variance\n",
    "k = 0\n",
    "total_sum = sum(pca.explained_variance_)\n",
    "current_sum = 0\n",
    "while current_sum/total_sum < 0.95:\n",
    "    current_sum += pca.explained_variance_[k]\n",
    "    k = k+1\n",
    "k"
   ]
  },
  {
   "cell_type": "code",
   "execution_count": 19,
   "metadata": {},
   "outputs": [],
   "source": [
    "pca = PCA(n_components=k,whiten=True)\n",
    "tranformed_features = pca.fit_transform(standardized_features)"
   ]
  },
  {
   "cell_type": "code",
   "execution_count": 20,
   "metadata": {},
   "outputs": [
    {
     "data": {
      "text/plain": [
       "((18398, 32), (18398, 59))"
      ]
     },
     "execution_count": 20,
     "metadata": {},
     "output_type": "execute_result"
    }
   ],
   "source": [
    "tranformed_features.shape, standardized_features.shape"
   ]
  },
  {
   "cell_type": "code",
   "execution_count": 21,
   "metadata": {},
   "outputs": [],
   "source": [
    "# Early Dectection\n",
    "for i in range(len(np_targets)-1):\n",
    "    np_targets[i] = np_targets[i+1]\n",
    "np_targets[len(np_targets)-1] =0"
   ]
  },
  {
   "cell_type": "code",
   "execution_count": 22,
   "metadata": {},
   "outputs": [],
   "source": [
    "X_train = tranformed_features[0:training_last_index+1]\n",
    "Y_train = np_targets[0:training_last_index+1]\n",
    "\n",
    "X_test= tranformed_features[training_last_index+1:]\n",
    "Y_test = np_targets[training_last_index+1:]"
   ]
  },
  {
   "cell_type": "code",
   "execution_count": 23,
   "metadata": {},
   "outputs": [
    {
     "data": {
      "text/plain": [
       "((13617, 32), (13617,))"
      ]
     },
     "execution_count": 23,
     "metadata": {},
     "output_type": "execute_result"
    }
   ],
   "source": [
    "X_train.shape, Y_train.shape"
   ]
  },
  {
   "cell_type": "code",
   "execution_count": 24,
   "metadata": {},
   "outputs": [
    {
     "data": {
      "text/plain": [
       "((4781, 32), (4781,))"
      ]
     },
     "execution_count": 24,
     "metadata": {},
     "output_type": "execute_result"
    }
   ],
   "source": [
    "X_test.shape, Y_test.shape"
   ]
  },
  {
   "cell_type": "code",
   "execution_count": 25,
   "metadata": {},
   "outputs": [],
   "source": [
    "encoder = OneHotEncoder()\n",
    "\n",
    "# Fit and transform the first categorical attribute\n",
    "cat_att1 =encoder.fit_transform(cat_att1.reshape(-1, 1)).toarray().tolist()\n",
    "\n",
    "# Fit and transform the second categorical attribute\n",
    "cat_att2 = np.array(encoder.fit_transform(cat_att2.reshape(-1, 1)).toarray().tolist())"
   ]
  },
  {
   "cell_type": "code",
   "execution_count": 26,
   "metadata": {},
   "outputs": [],
   "source": [
    "cat_att1_train = cat_att1[0:training_last_index+1]\n",
    "cat_att1_test = cat_att1[training_last_index+1:]"
   ]
  },
  {
   "cell_type": "code",
   "execution_count": 27,
   "metadata": {},
   "outputs": [],
   "source": [
    "cat_att2_train = cat_att2[0:training_last_index+1]\n",
    "cat_att2_test = cat_att2[training_last_index+1:]"
   ]
  },
  {
   "cell_type": "code",
   "execution_count": 28,
   "metadata": {},
   "outputs": [
    {
     "data": {
      "text/plain": [
       "(13617, 2)"
      ]
     },
     "execution_count": 28,
     "metadata": {},
     "output_type": "execute_result"
    }
   ],
   "source": [
    "cat_att2_train.shape"
   ]
  },
  {
   "cell_type": "code",
   "execution_count": 29,
   "metadata": {},
   "outputs": [
    {
     "data": {
      "text/plain": [
       "(13617, 42)"
      ]
     },
     "execution_count": 29,
     "metadata": {},
     "output_type": "execute_result"
    }
   ],
   "source": [
    "X_train = np.hstack((X_train, cat_att1_train, cat_att2_train))\n",
    "X_train.shape"
   ]
  },
  {
   "cell_type": "code",
   "execution_count": 30,
   "metadata": {},
   "outputs": [
    {
     "data": {
      "text/plain": [
       "(4781, 42)"
      ]
     },
     "execution_count": 30,
     "metadata": {},
     "output_type": "execute_result"
    }
   ],
   "source": [
    "X_test = np.hstack((X_test, cat_att1_test, cat_att2_test))\n",
    "X_test.shape"
   ]
  },
  {
   "cell_type": "code",
   "execution_count": 31,
   "metadata": {},
   "outputs": [
    {
     "data": {
      "text/plain": [
       "((13617, 42), (13617,))"
      ]
     },
     "execution_count": 31,
     "metadata": {},
     "output_type": "execute_result"
    }
   ],
   "source": [
    "X_train.shape, Y_train.shape"
   ]
  },
  {
   "cell_type": "code",
   "execution_count": 32,
   "metadata": {},
   "outputs": [
    {
     "data": {
      "text/plain": [
       "((4781, 42), (4781,))"
      ]
     },
     "execution_count": 32,
     "metadata": {},
     "output_type": "execute_result"
    }
   ],
   "source": [
    "X_test.shape, Y_test.shape"
   ]
  },
  {
   "cell_type": "code",
   "execution_count": 138,
   "metadata": {},
   "outputs": [
    {
     "data": {
      "text/plain": [
       "\"grid = {\\n    'C': np.logspace(-3, 3, 7),\\n    'gamma': np.logspace(-3, 3, 7)\\n}\\ngrid_search_clf = GridSearchCV(svm_classifier, grid, scoring='f1')\""
      ]
     },
     "execution_count": 138,
     "metadata": {},
     "output_type": "execute_result"
    }
   ],
   "source": [
    "svm_classifier = SVC(kernel=\"rbf\", C=1.8,class_weight='balanced', gamma=0.007)\n",
    "\"\"\"grid = {\n",
    "    'C': np.logspace(-3, 3, 7),\n",
    "    'gamma': np.logspace(-3, 3, 7)\n",
    "}\n",
    "grid_search_clf = GridSearchCV(svm_classifier, grid, scoring='f1')\"\"\""
   ]
  },
  {
   "cell_type": "markdown",
   "metadata": {},
   "source": [
    "C=1.5, gamma = 0.007 -> 0.03163444639718805\n",
    "C=1.7, gamma = 0.007 -> 0.0352112676056338\n",
    "C=1.8, gamma = 0.007 -> 0.035398230088495575"
   ]
  },
  {
   "cell_type": "code",
   "execution_count": 34,
   "metadata": {},
   "outputs": [],
   "source": [
    "#grid_search_clf.fit(X_train,Y_train)"
   ]
  },
  {
   "cell_type": "code",
   "execution_count": 35,
   "metadata": {},
   "outputs": [],
   "source": [
    "#grid_search_clf.best_score_"
   ]
  },
  {
   "cell_type": "code",
   "execution_count": 36,
   "metadata": {},
   "outputs": [],
   "source": [
    "#grid_search_clf.best_estimator_"
   ]
  },
  {
   "cell_type": "code",
   "execution_count": 139,
   "metadata": {},
   "outputs": [
    {
     "data": {
      "text/html": [
       "<style>#sk-container-id-25 {color: black;}#sk-container-id-25 pre{padding: 0;}#sk-container-id-25 div.sk-toggleable {background-color: white;}#sk-container-id-25 label.sk-toggleable__label {cursor: pointer;display: block;width: 100%;margin-bottom: 0;padding: 0.3em;box-sizing: border-box;text-align: center;}#sk-container-id-25 label.sk-toggleable__label-arrow:before {content: \"▸\";float: left;margin-right: 0.25em;color: #696969;}#sk-container-id-25 label.sk-toggleable__label-arrow:hover:before {color: black;}#sk-container-id-25 div.sk-estimator:hover label.sk-toggleable__label-arrow:before {color: black;}#sk-container-id-25 div.sk-toggleable__content {max-height: 0;max-width: 0;overflow: hidden;text-align: left;background-color: #f0f8ff;}#sk-container-id-25 div.sk-toggleable__content pre {margin: 0.2em;color: black;border-radius: 0.25em;background-color: #f0f8ff;}#sk-container-id-25 input.sk-toggleable__control:checked~div.sk-toggleable__content {max-height: 200px;max-width: 100%;overflow: auto;}#sk-container-id-25 input.sk-toggleable__control:checked~label.sk-toggleable__label-arrow:before {content: \"▾\";}#sk-container-id-25 div.sk-estimator input.sk-toggleable__control:checked~label.sk-toggleable__label {background-color: #d4ebff;}#sk-container-id-25 div.sk-label input.sk-toggleable__control:checked~label.sk-toggleable__label {background-color: #d4ebff;}#sk-container-id-25 input.sk-hidden--visually {border: 0;clip: rect(1px 1px 1px 1px);clip: rect(1px, 1px, 1px, 1px);height: 1px;margin: -1px;overflow: hidden;padding: 0;position: absolute;width: 1px;}#sk-container-id-25 div.sk-estimator {font-family: monospace;background-color: #f0f8ff;border: 1px dotted black;border-radius: 0.25em;box-sizing: border-box;margin-bottom: 0.5em;}#sk-container-id-25 div.sk-estimator:hover {background-color: #d4ebff;}#sk-container-id-25 div.sk-parallel-item::after {content: \"\";width: 100%;border-bottom: 1px solid gray;flex-grow: 1;}#sk-container-id-25 div.sk-label:hover label.sk-toggleable__label {background-color: #d4ebff;}#sk-container-id-25 div.sk-serial::before {content: \"\";position: absolute;border-left: 1px solid gray;box-sizing: border-box;top: 0;bottom: 0;left: 50%;z-index: 0;}#sk-container-id-25 div.sk-serial {display: flex;flex-direction: column;align-items: center;background-color: white;padding-right: 0.2em;padding-left: 0.2em;position: relative;}#sk-container-id-25 div.sk-item {position: relative;z-index: 1;}#sk-container-id-25 div.sk-parallel {display: flex;align-items: stretch;justify-content: center;background-color: white;position: relative;}#sk-container-id-25 div.sk-item::before, #sk-container-id-25 div.sk-parallel-item::before {content: \"\";position: absolute;border-left: 1px solid gray;box-sizing: border-box;top: 0;bottom: 0;left: 50%;z-index: -1;}#sk-container-id-25 div.sk-parallel-item {display: flex;flex-direction: column;z-index: 1;position: relative;background-color: white;}#sk-container-id-25 div.sk-parallel-item:first-child::after {align-self: flex-end;width: 50%;}#sk-container-id-25 div.sk-parallel-item:last-child::after {align-self: flex-start;width: 50%;}#sk-container-id-25 div.sk-parallel-item:only-child::after {width: 0;}#sk-container-id-25 div.sk-dashed-wrapped {border: 1px dashed gray;margin: 0 0.4em 0.5em 0.4em;box-sizing: border-box;padding-bottom: 0.4em;background-color: white;}#sk-container-id-25 div.sk-label label {font-family: monospace;font-weight: bold;display: inline-block;line-height: 1.2em;}#sk-container-id-25 div.sk-label-container {text-align: center;}#sk-container-id-25 div.sk-container {/* jupyter's `normalize.less` sets `[hidden] { display: none; }` but bootstrap.min.css set `[hidden] { display: none !important; }` so we also need the `!important` here to be able to override the default hidden behavior on the sphinx rendered scikit-learn.org. See: https://github.com/scikit-learn/scikit-learn/issues/21755 */display: inline-block !important;position: relative;}#sk-container-id-25 div.sk-text-repr-fallback {display: none;}</style><div id=\"sk-container-id-25\" class=\"sk-top-container\"><div class=\"sk-text-repr-fallback\"><pre>SVC(C=1.8, class_weight=&#x27;balanced&#x27;, gamma=0.007)</pre><b>In a Jupyter environment, please rerun this cell to show the HTML representation or trust the notebook. <br />On GitHub, the HTML representation is unable to render, please try loading this page with nbviewer.org.</b></div><div class=\"sk-container\" hidden><div class=\"sk-item\"><div class=\"sk-estimator sk-toggleable\"><input class=\"sk-toggleable__control sk-hidden--visually\" id=\"sk-estimator-id-25\" type=\"checkbox\" checked><label for=\"sk-estimator-id-25\" class=\"sk-toggleable__label sk-toggleable__label-arrow\">SVC</label><div class=\"sk-toggleable__content\"><pre>SVC(C=1.8, class_weight=&#x27;balanced&#x27;, gamma=0.007)</pre></div></div></div></div></div>"
      ],
      "text/plain": [
       "SVC(C=1.8, class_weight='balanced', gamma=0.007)"
      ]
     },
     "execution_count": 139,
     "metadata": {},
     "output_type": "execute_result"
    }
   ],
   "source": [
    "svm_classifier.fit(X_train,Y_train)"
   ]
  },
  {
   "cell_type": "code",
   "execution_count": 140,
   "metadata": {},
   "outputs": [],
   "source": [
    "Y_pred = svm_classifier.predict(X_test)"
   ]
  },
  {
   "cell_type": "code",
   "execution_count": 141,
   "metadata": {},
   "outputs": [
    {
     "data": {
      "text/plain": [
       "0.035398230088495575"
      ]
     },
     "execution_count": 141,
     "metadata": {},
     "output_type": "execute_result"
    }
   ],
   "source": [
    "f1 = f1_score(Y_pred, Y_test)\n",
    "f1"
   ]
  }
 ],
 "metadata": {
  "kernelspec": {
   "display_name": "Python 3",
   "language": "python",
   "name": "python3"
  },
  "language_info": {
   "codemirror_mode": {
    "name": "ipython",
    "version": 3
   },
   "file_extension": ".py",
   "mimetype": "text/x-python",
   "name": "python",
   "nbconvert_exporter": "python",
   "pygments_lexer": "ipython3",
   "version": "3.11.9"
  }
 },
 "nbformat": 4,
 "nbformat_minor": 2
}
